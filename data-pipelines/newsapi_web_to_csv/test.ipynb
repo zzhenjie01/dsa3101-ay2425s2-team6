{
 "cells": [
  {
   "cell_type": "code",
   "execution_count": null,
   "metadata": {},
   "outputs": [],
   "source": [
    "from newsapi import NewsApiClient\n",
    "from bs4 import BeautifulSoup\n",
    "import requests\n",
    "import re\n",
    "from time import sleep\n",
    "import random\n",
    "import pandas as pd\n",
    "\n",
    "def urls_given_by_newsapi_by_bankname(newsapi_key, start_date, end_date, bank_name):\n",
    "    query = f'{bank_name} AND esg' # both bank_name and esg must appear in the article\n",
    "    all_URLs = []\n",
    "    all_titles = []\n",
    "    all_sources = []\n",
    "    newsapi = NewsApiClient(api_key = newsapi_key)\n",
    "    data = newsapi.get_everything(q = query,\n",
    "                                    from_param=start_date,\n",
    "                                    to=end_date,\n",
    "                                    language='en', # needs to be english articles\n",
    "                                    page_size=100) # number of results to return per page\n",
    "    articles = data.get(\"articles\", [])\n",
    "    for article in articles:\n",
    "        if article[\"url\"] not in all_URLs:\n",
    "            all_URLs.append(article[\"url\"])\n",
    "            all_titles.append(article[\"title\"])\n",
    "            all_sources.append(article[\"source\"])\n",
    "    return list(zip(all_URLs, all_titles, all_sources))\n",
    "\n",
    "def bs4_scrape_by_bankname_into_csv(newsapi_key, start_date, end_date, bank_name):\n",
    "    # get full text content from scraped news articles URL\n",
    "    res = []\n",
    "    for url, title, src in urls_given_by_newsapi_by_bankname(newsapi_key, start_date, end_date, bank_name):\n",
    "        row = [title, src, url]\n",
    "        try:\n",
    "            response = requests.get(url)  \n",
    "            if response.status_code != 200: # req unsuccessful\n",
    "                row.append(\"Unable to scrape text\")  # fill missing text\n",
    "                continue\n",
    "\n",
    "            soup = BeautifulSoup(response.text, \"html.parser\")\n",
    "\n",
    "            # try different HTML patterns\n",
    "            content = soup.find(\"div\", {\"id\": re.compile(\"^content-body-[0-9]+\")})\n",
    "            if not content:\n",
    "                content = soup.find(\"article\")\n",
    "            if not content:\n",
    "                content = soup.find(\"div\", {\"class\": re.compile(\".*content.*\")})\n",
    "            if not content:\n",
    "                content = soup.find(\"p\")  # fallback to paragraphs\n",
    "\n",
    "            if content:\n",
    "                row.append(content.get_text(strip=True))\n",
    "            else:\n",
    "                row.append(\"Content Not Found\")  # HTML patterns failed\n",
    "\n",
    "            sleep(random.uniform(2, 5))  # sleep to avoid detection\n",
    "\n",
    "        except Exception as e:\n",
    "            row.append(\"Failed to Scrape\")  # for any unknown exception\n",
    "            continue\n",
    "        res.append(row)\n",
    "    df = pd.DataFrame(res, columns = ['Title', 'Source', 'URL', 'Content'])\n",
    "    df.to_csv(f'scraped_data_{bank_name}_{start_date}_to_{end_date}.csv', index = False)\n",
    "    return df\n",
    "\n",
    "test = bs4_scrape_by_bankname_into_csv('37439fc0e11546dd9b81a6f698800573', '2025-02-28', '2025-03-02', 'jpmorgan')"
   ]
  },
  {
   "cell_type": "code",
   "execution_count": 19,
   "metadata": {},
   "outputs": [],
   "source": [
    "from langchain_text_splitters import RecursiveCharacterTextSplitter\n",
    "from langchain.schema import Document\n",
    "text_splitter = RecursiveCharacterTextSplitter(\n",
    "    chunk_size=200, chunk_overlap=20\n",
    ")\n",
    "documents = []\n",
    "for index, row in test.iterrows():\n",
    "\n",
    "    # check if content is valid (not NaN or 'Unable to scrape text')\n",
    "    if pd.notna(row['Content']) and row['Content'] != 'Unable to scrape text':\n",
    "        document = Document(page_content=row['Content'], metadata={'title': row['Title'], 'source': row['Source'], 'url': row['URL']})\n",
    "        documents.append(document) # append to documents list\n",
    "\n",
    "all_splits = text_splitter.split_documents(documents) # all_splits now contains the chunked text content"
   ]
  },
  {
   "cell_type": "code",
   "execution_count": 22,
   "metadata": {},
   "outputs": [
    {
     "data": {
      "text/plain": [
       "\"Private Advisor Group LLC Has $1.36 Million Holdings in Nuveen ESG Emerging Markets Equity ETF (BATS:NUEM)Posted byMarketBeat NewsonFeb 28th, 2025Share on TwitterShare on FacebookShare on LinkedInShare on StocktwitsPrivate Advisor Group LLC lifted its position in  Nuveen ESG Emerging Markets Equity ETF (BATS:NUEM–Free Report) by 4.9% in the fourth quarter, according to its most recent Form 13F filing with the Securities and Exchange Commission. The institutional investor  owned 46,940 shares of the company’s stock after purchasing an additional 2,185 shares during the quarter. Private Advisor Group LLC owned 0.49% of Nuveen ESG Emerging Markets Equity ETF worth $1,362,000 at the end of the most recent reporting period.Several other hedge funds and other institutional investors have also recently bought and sold shares of the company. US Bancorp DE boosted its holdings in  Nuveen ESG Emerging Markets Equity ETF by 12.4% during the third quarter. US Bancorp DE now owns 6,013 shares of the company’s stock valued at $187,000 after purchasing an additional 661 shares in the last quarter.  JPMorgan Chase & Co. boosted its stake in  Nuveen ESG Emerging Markets Equity ETF by 29.8% in the 3rd quarter. JPMorgan Chase & Co. now owns 15,646 shares of the company’s stock valued at $485,000 after buying an additional 3,593 shares in the last quarter.  TFC Financial Management Inc. grew its position in  Nuveen ESG Emerging Markets Equity ETF by 18.9% in the fourth quarter. TFC Financial Management Inc. now owns 140,201 shares of the company’s stock valued at $4,069,000 after acquiring an additional 22,251 shares during the period.  Westfuller Advisors LLC acquired a new position in  Nuveen ESG Emerging Markets Equity ETF during the third quarter worth $823,000.  Finally, Perigon Wealth Management LLC bought a new position in shares of  Nuveen ESG Emerging Markets Equity ETF during the fourth quarter valued at $273,000.GetNuveen ESG Emerging Markets Equity ETFalerts:Nuveen ESG Emerging Markets Equity ETF Stock PerformanceShares ofBATS:NUEMopened at $29.70 on Friday. The company’s fifty day moving average is $29.42 and its 200-day moving average is $29.89. Nuveen ESG Emerging Markets Equity ETF has a 52 week low of $24.87 and a 52 week high of $31.87. The company has a market capitalization of $308.88 million, a PE ratio of 13.26 and a beta of 0.68.Nuveen ESG Emerging Markets Equity ETF Company ProfileWant More Great Investing Ideas?10 Stocks to Sell NOW!3 Stocks to DOUBLE This YearThe 10 Best Stocks to Own in 20237 Stocks to Buy and Hold Forever(Free Report)The Nuveen ESG Emerging Markets Equity ETF (NUEM) is an exchange-traded fund that is based on the MSCI TIAA ESG Emerging Markets index. The fund tracks an index of large- and mid-cap emerging-market stocks that score highly on environmental, social, and governance (ESG) criteria. The index is optimized for market-like risk and return characteristics.See AlsoFive stocks we like better than Nuveen ESG Emerging Markets Equity ETF3 Healthcare Dividend Stocks to BuyVolatility Is Back: 3 Stocks To Cushion the S&P 500’s SwingsMarket Cap Calculator: How to Calculate Market Cap2 Catalysts That Could Push NVIDIA Stock Up 30% This YearStock Market Sectors: What Are They and How Many Are There?Do GM Stock Buybacks Make the Stock Buyable For Investors?Want to see what other hedge funds are holding NUEM?Visit HoldingsChannel.comto get the latest 13F filings and insider trades for Nuveen ESG Emerging Markets Equity ETF (BATS:NUEM–Free Report).Receive News & Ratings for Nuveen ESG Emerging Markets Equity ETF Daily- Enter your email address below to receive a concise daily summary of the latest news and analysts' ratings for Nuveen ESG Emerging Markets Equity ETF and related companies withMarketBeat.com's FREE daily email newsletter.\""
      ]
     },
     "execution_count": 22,
     "metadata": {},
     "output_type": "execute_result"
    }
   ],
   "source": [
    "documents[0].page_content"
   ]
  }
 ],
 "metadata": {
  "kernelspec": {
   "display_name": "Python 3",
   "language": "python",
   "name": "python3"
  },
  "language_info": {
   "codemirror_mode": {
    "name": "ipython",
    "version": 3
   },
   "file_extension": ".py",
   "mimetype": "text/x-python",
   "name": "python",
   "nbconvert_exporter": "python",
   "pygments_lexer": "ipython3",
   "version": "3.10.16"
  }
 },
 "nbformat": 4,
 "nbformat_minor": 2
}
